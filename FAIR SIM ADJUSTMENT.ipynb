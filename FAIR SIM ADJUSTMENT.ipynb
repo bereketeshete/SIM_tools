{
 "cells": [
  {
   "cell_type": "code",
   "execution_count": 9,
   "id": "2623f8e9",
   "metadata": {},
   "outputs": [],
   "source": [
    "import numpy as np\n",
    "import os\n",
    "import matplotlib.pyplot as plt\n",
    "from skimage import io\n",
    "import skimage.io\n",
    "import skimage.util\n",
    "from tifffile import imsave\n",
    "import scipy.ndimage"
   ]
  },
  {
   "cell_type": "code",
   "execution_count": 10,
   "id": "36b2fe42",
   "metadata": {},
   "outputs": [],
   "source": [
    "img = io.imread(\"FairSIM.tif\")"
   ]
  },
  {
   "cell_type": "code",
   "execution_count": 11,
   "id": "b899ae0d",
   "metadata": {},
   "outputs": [
    {
     "data": {
      "text/plain": [
       "(17, 1024, 1024)"
      ]
     },
     "execution_count": 11,
     "metadata": {},
     "output_type": "execute_result"
    }
   ],
   "source": [
    "img.shape"
   ]
  },
  {
   "cell_type": "code",
   "execution_count": 13,
   "id": "469e89e9",
   "metadata": {},
   "outputs": [],
   "source": [
    "new_image = scipy.ndimage.zoom(img, zoom = (2,1,1), order =1)"
   ]
  },
  {
   "cell_type": "code",
   "execution_count": 15,
   "id": "7ef3acf1",
   "metadata": {},
   "outputs": [],
   "source": [
    "imsave('fairSIM_final_007', new_image)"
   ]
  },
  {
   "cell_type": "code",
   "execution_count": null,
   "id": "a281d16f",
   "metadata": {},
   "outputs": [],
   "source": []
  }
 ],
 "metadata": {
  "kernelspec": {
   "display_name": "Python 3 (ipykernel)",
   "language": "python",
   "name": "python3"
  },
  "language_info": {
   "codemirror_mode": {
    "name": "ipython",
    "version": 3
   },
   "file_extension": ".py",
   "mimetype": "text/x-python",
   "name": "python",
   "nbconvert_exporter": "python",
   "pygments_lexer": "ipython3",
   "version": "3.9.5"
  }
 },
 "nbformat": 4,
 "nbformat_minor": 5
}
